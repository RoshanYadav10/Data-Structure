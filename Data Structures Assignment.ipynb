{
 "cells": [
  {
   "cell_type": "code",
   "execution_count": 8,
   "id": "b381c3f8-5ce7-4b55-a767-b7f6a11756c8",
   "metadata": {},
   "outputs": [
    {
     "name": "stdout",
     "output_type": "stream",
     "text": [
      "i am learning python\n"
     ]
    }
   ],
   "source": [
    "#Q1.How do you comment code in Python? What are the different types of comments?\n",
    "print(\"i am learning python\")\n",
    "#there are three types of comments in python:\n",
    "   #1]single-line comments\n",
    "'''2]Multiline comments\n",
    "    the Quick brown fox jumps over the lazy\n",
    "     Dog'''\n",
    " \"\"\" 3]Docstring\"\"\"\n",
    "  "
   ]
  },
  {
   "cell_type": "code",
   "execution_count": 6,
   "id": "2f4f78db-137c-4e8c-8578-b1c61df72801",
   "metadata": {},
   "outputs": [],
   "source": [
    "#2. What are variables in Python? How do you declare and assign values to variables?\n",
    "'''Variables are the named given to computer memory location which used to store value in the computer program. Variable work as Storage for values that can be manipulate in program.'''\n",
    "#for example:\n",
    "a='This is my first program'"
   ]
  },
  {
   "cell_type": "code",
   "execution_count": 8,
   "id": "e75a2579-38bb-48ce-84d7-fda76d654a63",
   "metadata": {},
   "outputs": [
    {
     "data": {
      "text/plain": [
       "'This is my first program'"
      ]
     },
     "execution_count": 8,
     "metadata": {},
     "output_type": "execute_result"
    }
   ],
   "source": [
    "a"
   ]
  },
  {
   "cell_type": "code",
   "execution_count": 24,
   "id": "155cfd4d-197c-4d40-beb5-32cbe9320b58",
   "metadata": {},
   "outputs": [],
   "source": [
    "#Q.3 How do you convert one data type to another in Python?\n",
    "#we can convert one data into another using type casting or type conversion method\n"
   ]
  },
  {
   "cell_type": "code",
   "execution_count": 26,
   "id": "c4aae412-a660-4e28-8814-67a436f7f0c4",
   "metadata": {},
   "outputs": [],
   "source": [
    "X = 12"
   ]
  },
  {
   "cell_type": "code",
   "execution_count": 30,
   "id": "8589b75a-f891-47bc-8529-081f377f489e",
   "metadata": {},
   "outputs": [
    {
     "data": {
      "text/plain": [
       "'12'"
      ]
     },
     "execution_count": 30,
     "metadata": {},
     "output_type": "execute_result"
    }
   ],
   "source": [
    "str(X)"
   ]
  },
  {
   "cell_type": "code",
   "execution_count": 33,
   "id": "225406c6-6f45-48dc-8260-d78055b43cfc",
   "metadata": {},
   "outputs": [],
   "source": [
    "a=20.5"
   ]
  },
  {
   "cell_type": "code",
   "execution_count": 35,
   "id": "56fa9a0c-9227-4192-a1f8-573f590ab606",
   "metadata": {},
   "outputs": [
    {
     "data": {
      "text/plain": [
       "20"
      ]
     },
     "execution_count": 35,
     "metadata": {},
     "output_type": "execute_result"
    }
   ],
   "source": [
    "int(a)"
   ]
  },
  {
   "cell_type": "code",
   "execution_count": 38,
   "id": "8d1f3a9c-6cf3-4d05-b27a-c1698aee35c6",
   "metadata": {},
   "outputs": [],
   "source": [
    "k=50"
   ]
  },
  {
   "cell_type": "code",
   "execution_count": 40,
   "id": "edcc0a37-6dd4-4035-97b4-c32c73fdb69e",
   "metadata": {},
   "outputs": [
    {
     "data": {
      "text/plain": [
       "50.0"
      ]
     },
     "execution_count": 40,
     "metadata": {},
     "output_type": "execute_result"
    }
   ],
   "source": [
    "float(k)"
   ]
  },
  {
   "cell_type": "code",
   "execution_count": 43,
   "id": "8ca04eb0-5d82-4586-be2c-4a87cbe21612",
   "metadata": {},
   "outputs": [
    {
     "data": {
      "text/plain": [
       "'Open a text editor and write your Python code. Save the file with a .py extension.\\nFor example, you can create a file named my_script.py and add your Python code inside'"
      ]
     },
     "execution_count": 43,
     "metadata": {},
     "output_type": "execute_result"
    }
   ],
   "source": [
    "#Q.4  How do you write and execute a Python script from the command line?\n",
    "'''we writes codes in text editor and Save the file with a .py extension.\n",
    "and after opening cmd we execute the code'''"
   ]
  },
  {
   "cell_type": "code",
   "execution_count": 45,
   "id": "12e0681c-77e7-452f-95bd-525758da4af3",
   "metadata": {},
   "outputs": [],
   "source": [
    "#Q.5 Given a list my_list = [1, 2, 3, 4, 5], write the code to slice the list and obtain the sub-list [2,3]"
   ]
  },
  {
   "cell_type": "code",
   "execution_count": 47,
   "id": "7634db03-d1c0-4d8d-a5f5-882d553bb7ee",
   "metadata": {},
   "outputs": [],
   "source": [
    "my_list = [1, 2, 3, 4, 5]"
   ]
  },
  {
   "cell_type": "code",
   "execution_count": 50,
   "id": "9c57ea16-eb19-4faa-ac09-ed3d16f9fb1c",
   "metadata": {},
   "outputs": [
    {
     "data": {
      "text/plain": [
       "[2, 3]"
      ]
     },
     "execution_count": 50,
     "metadata": {},
     "output_type": "execute_result"
    }
   ],
   "source": [
    "my_list[1:3]"
   ]
  },
  {
   "cell_type": "code",
   "execution_count": 51,
   "id": "523cbc2a-64fb-4783-b0b5-8e7765536281",
   "metadata": {},
   "outputs": [],
   "source": [
    "#Q.6 What is a complex number in mathematics, and how is it represented in Python?"
   ]
  },
  {
   "cell_type": "code",
   "execution_count": 53,
   "id": "748764a2-c28a-4e96-b27b-99a066505f73",
   "metadata": {},
   "outputs": [
    {
     "data": {
      "text/plain": [
       "'Complex number is a combination of real number and imaginary number. \\nfor example:\\n    v=5+8j\\nHere, 8j is the imaginary number where j is the notation which is used in python to declare the complex variable\\nbut in mathematics we use i to declare the complex variable'"
      ]
     },
     "execution_count": 53,
     "metadata": {},
     "output_type": "execute_result"
    }
   ],
   "source": [
    "'''Complex number is a combination of real number and imaginary number. \n",
    "for example:\n",
    "    v=5+8j\n",
    "Here, 8j is the imaginary number where j is the notation which is used in python to declare the complex variable\n",
    "but in mathematics we use i to declare the complex variable'''"
   ]
  },
  {
   "cell_type": "code",
   "execution_count": 54,
   "id": "3a80a8b7-a565-4266-8358-30f55a634ec0",
   "metadata": {},
   "outputs": [],
   "source": [
    "#Q.7  What is the correct way to declare a variable named age and assign the value 25 to it?"
   ]
  },
  {
   "cell_type": "code",
   "execution_count": 55,
   "id": "cc69334e-55a5-49d1-8447-0d8d733195e5",
   "metadata": {},
   "outputs": [],
   "source": [
    "age=25"
   ]
  },
  {
   "cell_type": "code",
   "execution_count": 57,
   "id": "09a7c7ec-977a-439d-9c04-d91513a5689b",
   "metadata": {},
   "outputs": [
    {
     "data": {
      "text/plain": [
       "25"
      ]
     },
     "execution_count": 57,
     "metadata": {},
     "output_type": "execute_result"
    }
   ],
   "source": [
    "age"
   ]
  },
  {
   "cell_type": "code",
   "execution_count": 58,
   "id": "4fc572ca-f9c9-4438-b4a2-92da497dffc6",
   "metadata": {},
   "outputs": [],
   "source": [
    "#Q.8 Declare a variable named price and assign the value 9.99 to it. What data type does this variable belong to?"
   ]
  },
  {
   "cell_type": "code",
   "execution_count": 60,
   "id": "b0ae75b0-9238-4467-ba21-72775e28437b",
   "metadata": {},
   "outputs": [],
   "source": [
    "price=9.99"
   ]
  },
  {
   "cell_type": "code",
   "execution_count": 62,
   "id": "0108e5dd-9d06-4ad7-a298-fa621c992546",
   "metadata": {},
   "outputs": [
    {
     "data": {
      "text/plain": [
       "float"
      ]
     },
     "execution_count": 62,
     "metadata": {},
     "output_type": "execute_result"
    }
   ],
   "source": [
    "type(price)"
   ]
  },
  {
   "cell_type": "code",
   "execution_count": 63,
   "id": "a5213db2-75b3-4f3f-a49f-8129f67e24f0",
   "metadata": {},
   "outputs": [],
   "source": [
    "#Q.9  Create a variable named name and assign your full name to it as a string. How would you print the value of this variable? "
   ]
  },
  {
   "cell_type": "code",
   "execution_count": 64,
   "id": "1e1ac799-3405-44de-af0a-b0400beff5bd",
   "metadata": {},
   "outputs": [],
   "source": [
    "name=\"Roshan yadav\""
   ]
  },
  {
   "cell_type": "code",
   "execution_count": 65,
   "id": "15658b56-38ba-41e9-b3d3-653ff1405e2b",
   "metadata": {},
   "outputs": [
    {
     "name": "stdout",
     "output_type": "stream",
     "text": [
      "Roshan yadav\n"
     ]
    }
   ],
   "source": [
    "print(name)"
   ]
  },
  {
   "cell_type": "code",
   "execution_count": 66,
   "id": "52d67671-b21c-4937-bf93-63453a97669a",
   "metadata": {},
   "outputs": [],
   "source": [
    "#Q.10  Given the string \"Hello, World!\", extract the substring \"World\"."
   ]
  },
  {
   "cell_type": "code",
   "execution_count": 76,
   "id": "5068e66f-079b-4569-ae9e-eebc9c15f91d",
   "metadata": {},
   "outputs": [],
   "source": [
    "String=\"Hello, World!\""
   ]
  },
  {
   "cell_type": "code",
   "execution_count": 80,
   "id": "92e32e83-b040-4cb9-8275-33bbed38dcff",
   "metadata": {},
   "outputs": [],
   "source": [
    "Substring=String[7:12]"
   ]
  },
  {
   "cell_type": "code",
   "execution_count": 81,
   "id": "7779e3dd-387b-422c-9f32-d980c12dd0ac",
   "metadata": {},
   "outputs": [
    {
     "name": "stdout",
     "output_type": "stream",
     "text": [
      "World\n"
     ]
    }
   ],
   "source": [
    "print(Substring)"
   ]
  },
  {
   "cell_type": "code",
   "execution_count": 82,
   "id": "176216e5-71fc-469c-992b-6cbd818f5d7b",
   "metadata": {},
   "outputs": [],
   "source": [
    "#Q.11 Create a variable named \"is_student\" and assign it a boolean value indicating whether you are currently a student or not"
   ]
  },
  {
   "cell_type": "code",
   "execution_count": 87,
   "id": "a475eb53-40e3-456d-870a-e3d79d4bb4a7",
   "metadata": {},
   "outputs": [
    {
     "name": "stdout",
     "output_type": "stream",
     "text": [
      "You are currently a student\n"
     ]
    }
   ],
   "source": [
    "is_student=True\n",
    "if is_student:\n",
    "    print(\"You are currently a student\")\n",
    "else:\n",
    "    print(\"You are currently not a student\")"
   ]
  }
 ],
 "metadata": {
  "kernelspec": {
   "display_name": "Python 3 (ipykernel)",
   "language": "python",
   "name": "python3"
  },
  "language_info": {
   "codemirror_mode": {
    "name": "ipython",
    "version": 3
   },
   "file_extension": ".py",
   "mimetype": "text/x-python",
   "name": "python",
   "nbconvert_exporter": "python",
   "pygments_lexer": "ipython3",
   "version": "3.10.6"
  }
 },
 "nbformat": 4,
 "nbformat_minor": 5
}
